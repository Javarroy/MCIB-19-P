{
 "cells": [
  {
   "cell_type": "markdown",
   "metadata": {},
   "source": [
    "# Actividad III\n",
    "### 1.- Abrir los archivos adquiridos en la Práctica 0 y desplegar un segmento de señal determinado."
   ]
  },
  {
   "cell_type": "code",
   "execution_count": null,
   "metadata": {},
   "outputs": [],
   "source": [
    "# Importar las bibliotecas\n",
    "import numpy             as np\n",
    "import matplotlib.pyplot as plt"
   ]
  },
  {
   "cell_type": "code",
   "execution_count": null,
   "metadata": {},
   "outputs": [],
   "source": [
    "# Direccion y nombre del archivo \n",
    "path = '/Users/Arroy javier/Desktop/MCIB/MCIB-19-P/data/Señales adquirid/'\n",
    "fname = 'Med4.txt'"
   ]
  },
  {
   "cell_type": "code",
   "execution_count": null,
   "metadata": {},
   "outputs": [],
   "source": [
    "# Idicamos que el archivo a leer está delimitado por tabs y es tipo str\n",
    "data = np.loadtxt(path+fname,delimiter='\\t',dtype='str')"
   ]
  },
  {
   "cell_type": "code",
   "execution_count": null,
   "metadata": {},
   "outputs": [],
   "source": [
    "# Leemos la señal y el tiempo ue esta en minutos lo convertimos a segundos\n",
    "signal=data[:,:-1].astype(float)\n",
    "t = signal[ : , 0]*60"
   ]
  },
  {
   "cell_type": "code",
   "execution_count": null,
   "metadata": {},
   "outputs": [],
   "source": [
    "# Graficamos segmentos de las 5 señales adquiridas \n",
    "plt.figure( figsize=(12,4) )\n",
    "plt.plot( t[40000:55000],signal[40000:55000,1]+50 )    #SAT 02\n",
    "plt.plot( t[40000:55000],signal[40000:55000,2]+50 )    #RES\n",
    "plt.plot( t[40000:55000],signal[40000:55000,3]+30 )    #EMG\n",
    "plt.plot( t[40000:55000],signal[40000:55000,4]+20 )    #PUL\n",
    "plt.plot( t[40000:55000],signal[40000:55000,5] )       #ECG\n",
    "plt.grid(True)\n",
    "plt.show()\n"
   ]
  },
  {
   "cell_type": "markdown",
   "metadata": {},
   "source": [
    "### 2.- Generar una onda cuadrada aproximando hasta el k- ésimo término, utilizando exclusivamente operaciones con matrices y funciones matriciales de numpy, en otras palabras, no está permitido utilizar ningún tipo de ciclos. Graficar el resultado. Asuma una frecuencia de muestreo de 300 Hz y una frecuencia fundamental de 5 Hz."
   ]
  },
  {
   "cell_type": "code",
   "execution_count": null,
   "metadata": {},
   "outputs": [],
   "source": [
    "# Importamos las librerias\n",
    "import numpy             as np\n",
    "import matplotlib.pyplot as plt"
   ]
  },
  {
   "cell_type": "code",
   "execution_count": null,
   "metadata": {},
   "outputs": [],
   "source": [
    "# Decllaración de ctes sr = frec. de muestreo, L= longitud de la señal, fr= frecuencia fundamental \n",
    "sr = 300\n",
    "fr = 5\n",
    "L = 25\n"
   ]
  },
  {
   "cell_type": "code",
   "execution_count": null,
   "metadata": {},
   "outputs": [],
   "source": [
    "val = []\n",
    "val.append(1)\n",
    "val.append(0)\n",
    "\n",
    "\n",
    "y = np.ones(int(sr*fr/2))[:,np.newaxis]\n",
    "val = np.array(val)[np.newaxis]\n",
    "\n",
    "t = np.linspace(0,L,L*sr)\n",
    "\n",
    "s = (y*val)\n",
    "s = s.T\n",
    "\n",
    "s = s.reshape(sr*fr)\n",
    "s_q = np.ones(int(L/fr))[:,np.newaxis]*s\n",
    "\n",
    "s_q = s_q.reshape(sr*L)\n"
   ]
  },
  {
   "cell_type": "code",
   "execution_count": null,
   "metadata": {},
   "outputs": [],
   "source": [
    "plt.plot(t,s_q)\n",
    "plt.grid(True)\n",
    "plt.show()"
   ]
  },
  {
   "cell_type": "markdown",
   "metadata": {},
   "source": [
    "### 3.- Repita el ejercicio anterior, pero considerando una onda triangular."
   ]
  },
  {
   "cell_type": "code",
   "execution_count": null,
   "metadata": {},
   "outputs": [],
   "source": [
    "import numpy             as np\n",
    "import matplotlib.pyplot as plt"
   ]
  },
  {
   "cell_type": "code",
   "execution_count": null,
   "metadata": {},
   "outputs": [],
   "source": [
    "sr = 300\n",
    "fr = 5\n",
    "L = 25\n",
    "\n",
    "val1 = np.linspace(0,1-1/(sr*fr/2),int(sr*fr/2))\n",
    "val2 = np.linspace(1,0+1/(sr*fr/2),int(sr*fr/2))\n",
    "val = np.concatenate((val1, val2))\n",
    "val = val.reshape(sr*fr)"
   ]
  },
  {
   "cell_type": "code",
   "execution_count": null,
   "metadata": {},
   "outputs": [],
   "source": [
    "t = np.linspace(0,L,L*sr)\n",
    "s_q = np.ones(int(L/fr))[:,np.newaxis]*val\n",
    "s_q = s_q.reshape(sr*L)\n"
   ]
  },
  {
   "cell_type": "code",
   "execution_count": null,
   "metadata": {},
   "outputs": [],
   "source": [
    "plt.plot(t,s_q)\n",
    "plt.grid(True)\n",
    "plt.show()"
   ]
  }
 ],
 "metadata": {
  "kernelspec": {
   "display_name": "Python 3",
   "language": "python",
   "name": "python3"
  },
  "language_info": {
   "codemirror_mode": {
    "name": "ipython",
    "version": 3
   },
   "file_extension": ".py",
   "mimetype": "text/x-python",
   "name": "python",
   "nbconvert_exporter": "python",
   "pygments_lexer": "ipython3",
   "version": "3.7.3"
  }
 },
 "nbformat": 4,
 "nbformat_minor": 2
}
