{
 "cells": [
  {
   "cell_type": "code",
   "execution_count": 1,
   "metadata": {},
   "outputs": [],
   "source": [
    "import numpy as np\n",
    "from matplotlib import pyplot as plt"
   ]
  },
  {
   "cell_type": "code",
   "execution_count": 25,
   "metadata": {},
   "outputs": [
    {
     "ename": "SyntaxError",
     "evalue": "invalid syntax (<ipython-input-25-8be02ccba20b>, line 7)",
     "output_type": "error",
     "traceback": [
      "\u001b[1;36m  File \u001b[1;32m\"<ipython-input-25-8be02ccba20b>\"\u001b[1;36m, line \u001b[1;32m7\u001b[0m\n\u001b[1;33m    A1= [0 :: len(D1)]\u001b[0m\n\u001b[1;37m           ^\u001b[0m\n\u001b[1;31mSyntaxError\u001b[0m\u001b[1;31m:\u001b[0m invalid syntax\n"
     ]
    }
   ],
   "source": [
    "D1 = [444.316, 323.430, 391.501, 367.159, 315.119, 336.996, 308.278]\n",
    "D2 = [558.786, 712.797, 593.812, 912.439, 845.757, 450.214, 1056.097]\n",
    "D3 = [945.716, 1258.253, 1084.258, 1307.850, 1270.525, 1558.612, 1348.343, 1446.393]\n",
    "D4 = [1573.849, 1821.441, 1241.222, 1290.408, 2378.494, 835.950, 1848.659, 1929.276 ]\n",
    "D5 = [2670.512, 1543.034, 1928.805, 2360.062, 2802.496, 1672.019, 1877.681, 6409.661, 1779.979]\n",
    "\n",
    "A1= [0 : len(D1)]\n",
    "print(A1)"
   ]
  }
 ],
 "metadata": {
  "kernelspec": {
   "display_name": "Python 3",
   "language": "python",
   "name": "python3"
  },
  "language_info": {
   "codemirror_mode": {
    "name": "ipython",
    "version": 3
   },
   "file_extension": ".py",
   "mimetype": "text/x-python",
   "name": "python",
   "nbconvert_exporter": "python",
   "pygments_lexer": "ipython3",
   "version": "3.7.3"
  }
 },
 "nbformat": 4,
 "nbformat_minor": 2
}
